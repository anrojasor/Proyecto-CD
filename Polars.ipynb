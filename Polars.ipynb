{
 "cells": [
  {
   "cell_type": "markdown",
   "metadata": {},
   "source": [
    "<div style=\"display: flex; align-items: center;\">\n",
    "    <img src=\"logo-final-ap.png\" alt=\"Logo\" width=\"150\" height=\"150\" style=\"margin-right: 10px;\">\n",
    "    <h1 style=\"color:#4361EE; text-align: right;\">Aprendizaje Profundo</h1>\n",
    "</div>"
   ]
  },
  {
   "cell_type": "markdown",
   "metadata": {},
   "source": [
    "# <span style=\"color:red\"><center>Diplomado en Ciencia de datos</center></span>"
   ]
  },
  {
   "cell_type": "markdown",
   "metadata": {},
   "source": [
    "# <span style=\"color:blue\"><center>Librería Polars</center></span>\n"
   ]
  },
  {
   "cell_type": "markdown",
   "metadata": {},
   "source": [
    "<img src=\"polar-bear-ice-arctic-white-162320.webp\" alt=\"Descripción de la imagen\" width=\"900\" height=\"500\">"
   ]
  },
  {
   "cell_type": "markdown",
   "metadata": {},
   "source": [
    "Fuente: [Pexels: Pixabay](https://www.pexels.com/es-es/foto/oso-polar-blanco-en-campo-cubierto-de-nieve-blanca-cerca-del-canal-durante-el-dia-162320/)"
   ]
  },
  {
   "cell_type": "markdown",
   "metadata": {},
   "source": [
    "## <span style=\"color:#4361EE\">Profesores</span>"
   ]
  },
  {
   "cell_type": "markdown",
   "metadata": {},
   "source": [
    "1. Alvaro  Montenegro, PhD, ammontenegrod@unal.edu.co\n",
    "1. Camilo José Torres Jiménez, Msc, cjtorresj@unal.edu.co\n",
    "1. Daniel  Montenegro, Msc, dextronomo@gmail.com\n",
    "1. Campo Elías Pardo Turriago, cepardot@unal.edu.co"
   ]
  },
  {
   "cell_type": "markdown",
   "metadata": {},
   "source": [
    "## <span style=\"color:#4361EE\">Asesora Medios y Marketing digital</span>"
   ]
  },
  {
   "cell_type": "markdown",
   "metadata": {},
   "source": [
    "4. Maria del Pilar Montenegro, pmontenegro88@gmail.com\n",
    "5. Jessica López Mejía, jelopezme@unal.edu.co"
   ]
  },
  {
   "cell_type": "markdown",
   "metadata": {},
   "source": [
    "## <span style=\"color:#4361EE\">Jefe Jurídica</span>"
   ]
  },
  {
   "cell_type": "markdown",
   "metadata": {},
   "source": [
    "6. Paula Andrea Guzmán, guzmancruz.paula@gmail.com"
   ]
  },
  {
   "cell_type": "markdown",
   "metadata": {},
   "source": [
    "## <span style=\"color:#4361EE\">Coordinador Jurídico</span>"
   ]
  },
  {
   "cell_type": "markdown",
   "metadata": {},
   "source": [
    "7. David Fuentes, fuentesd065@gmail.com"
   ]
  },
  {
   "cell_type": "markdown",
   "metadata": {},
   "source": [
    "## <span style=\"color:#4361EE\">Desarrolladores Principales</span>"
   ]
  },
  {
   "cell_type": "markdown",
   "metadata": {},
   "source": [
    "8. Dairo Moreno, damoralesj@unal.edu.co\n",
    "9. Joan Castro, jocastroc@unal.edu.co\n",
    "10. Bryan Riveros, briveros@unal.edu.co\n",
    "11. Rosmer Vargas, rovargasc@unal.edu.co\n",
    "12. Venus Puertas, vpuertasg@unal.edu.co\n",
    "13. Daniel Rojas, anrojasor@unal.edu.co"
   ]
  },
  {
   "cell_type": "markdown",
   "metadata": {},
   "source": [
    "## <span style=\"color:#4361EE\">Expertos en Bases de Datos</span>"
   ]
  },
  {
   "cell_type": "markdown",
   "metadata": {},
   "source": [
    "13. Giovvani Barrera, udgiovanni@gmail.com\n",
    "14. Camilo Chitivo, cchitivo@unal.edu.co"
   ]
  },
  {
   "cell_type": "markdown",
   "metadata": {},
   "source": [
    "## <span style=\"color:#4361EE\">Introducción a la Librería Polars</span>"
   ]
  },
  {
   "cell_type": "markdown",
   "metadata": {},
   "source": [
    "Polars es una librería de manipulación de datos de alto rendimiento diseñada para trabajar con conjuntos de datos grandes y complejos en Python. Se inspira en la sintaxis y la funcionalidad de pandas, pero con la ventaja de una mayor eficiencia y velocidad en operaciones sobre grandes volúmenes de datos.\n",
    "\n",
    "Polars está construido sobre la librería Rust, lo que le confiere una ventaja significativa en términos de rendimiento en comparación con otras librerías de Python, que están implementadas en C o en Python puro. Esta combinación de facilidad de uso y velocidad hace que Polars sea una excelente opción para aquellos casos en los que la velocidad de procesamiento es esencial."
   ]
  },
  {
   "cell_type": "markdown",
   "metadata": {},
   "source": [
    "### Ventajas de Polars\n",
    "\n",
    "- **Rendimiento Superior**: Gracias a su implementación en Rust, Polars supera a pandas y otras librerías de Python en términos de velocidad y eficiencia en la manipulación de grandes conjuntos de datos. Es especialmente adecuado para el procesamiento de datos a escala.\n",
    "\n",
    "- **Expresividad y Simplicidad**: Polars ofrece una sintaxis similar a pandas, lo que facilita la transición para aquellos que ya están familiarizados con esta librería. Sin embargo, también proporciona una serie de características adicionales que mejoran la experiencia de usuario y la expresividad del código.\n",
    "\n",
    "- **Operaciones Paralelizadas**: Polars aprovecha el poder del procesamiento paralelo para acelerar las operaciones, lo que resulta en un mejor rendimiento en sistemas con múltiples núcleos o CPUs.\n",
    "\n",
    "- **Uso Eficiente de Memoria**: Polars está diseñado para ser eficiente en el uso de memoria, lo que permite manejar grandes conjuntos de datos sin agotar los recursos.\n",
    "\n",
    "### Diferencias con otras librerías\n",
    "\n",
    "Aunque Polars comparte similitudes con pandas y otras librerías de manipulación de datos, existen algunas diferencias importantes que es importante tener en cuenta:\n",
    "\n",
    "- **Rendimiento**: La principal diferencia y ventaja de Polars radica en su rendimiento superior. Mientras que pandas es una excelente opción para tareas de manipulación de datos regulares, Polars brilla en situaciones donde la velocidad y el procesamiento de grandes conjuntos de datos son fundamentales.\n",
    "\n",
    "- **Librería Multilingüe**: Aunque Polars está diseñado principalmente para Python, también está disponible en otros lenguajes como Rust y JavaScript. Esto permite que los usuarios puedan compartir código y utilizar Polars en múltiples plataformas.\n",
    "\n",
    "En el siguiente apartado, veremos cómo instalar la librería Polars y los requisitos necesarios para comenzar a utilizarla en nuestro entorno de desarrollo."
   ]
  },
  {
   "cell_type": "markdown",
   "metadata": {},
   "source": [
    "## <span style=\"color:#4361EE\">Instalación e importación</span>"
   ]
  },
  {
   "cell_type": "markdown",
   "metadata": {},
   "source": [
    "Polars puede ser instalada usando pip:\n",
    "\n",
    "```\n",
    "$ pip install polars\n",
    "```\n",
    "\n",
    "O conda:\n",
    "```\n",
    "$ conda install -c conda-forge polars\n",
    "\n",
    "```\n",
    "\n",
    "Posteriormente podemos importar la librería de la siguiente manera:"
   ]
  },
  {
   "cell_type": "code",
   "execution_count": 1,
   "metadata": {},
   "outputs": [],
   "source": [
    "import polars as pl"
   ]
  }
 ],
 "metadata": {
  "kernelspec": {
   "display_name": "polars",
   "language": "python",
   "name": "python3"
  },
  "language_info": {
   "codemirror_mode": {
    "name": "ipython",
    "version": 3
   },
   "file_extension": ".py",
   "mimetype": "text/x-python",
   "name": "python",
   "nbconvert_exporter": "python",
   "pygments_lexer": "ipython3",
   "version": "3.11.4"
  },
  "orig_nbformat": 4
 },
 "nbformat": 4,
 "nbformat_minor": 2
}
