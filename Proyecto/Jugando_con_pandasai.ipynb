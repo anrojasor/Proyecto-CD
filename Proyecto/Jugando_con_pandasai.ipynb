{
 "cells": [
  {
   "cell_type": "code",
   "execution_count": 2,
   "id": "446f71fc-85a5-461f-aa50-13d456eec930",
   "metadata": {
    "tags": []
   },
   "outputs": [
    {
     "name": "stdout",
     "output_type": "stream",
     "text": [
      "Nombre del kernel: C:\\Users\\anroj\\AppData\\Roaming\\jupyter\\runtime\\kernel\n"
     ]
    }
   ],
   "source": [
    "import ipykernel\n",
    "\n",
    "kernel_name = ipykernel.connect.get_connection_file().split('/')[-1].split('-')[0]\n",
    "print(f\"Nombre del kernel: {kernel_name}\")\n"
   ]
  },
  {
   "cell_type": "code",
   "execution_count": null,
   "id": "990fee14-8447-4980-a5d9-355fb1858e79",
   "metadata": {},
   "outputs": [],
   "source": []
  }
 ],
 "metadata": {
  "kernelspec": {
   "display_name": "Python 3 (ipykernel)",
   "language": "python",
   "name": "python3"
  },
  "language_info": {
   "codemirror_mode": {
    "name": "ipython",
    "version": 3
   },
   "file_extension": ".py",
   "mimetype": "text/x-python",
   "name": "python",
   "nbconvert_exporter": "python",
   "pygments_lexer": "ipython3",
   "version": "3.11.4"
  }
 },
 "nbformat": 4,
 "nbformat_minor": 5
}
